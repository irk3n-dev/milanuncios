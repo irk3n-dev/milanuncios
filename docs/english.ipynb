{
 "cells": [
  {
   "cell_type": "markdown",
   "metadata": {},
   "source": [
    "# <center>How it works</center>"
   ]
  },
  {
   "cell_type": "markdown",
   "metadata": {},
   "source": [
    "Certain web pages try to restrict the possibility of being visited by robots creating content that shows on clients by a dinamic way (trough Javascript code), like [milanuncios.com](https://www.milanuncios.com/).\n",
    "\n",
    "### Static scraping in Python\n"
   ]
  },
  {
   "cell_type": "code",
   "execution_count": 1,
   "metadata": {},
   "outputs": [
    {
     "name": "stdout",
     "output_type": "stream",
     "text": [
      "None\n"
     ]
    }
   ],
   "source": [
    "import requests\n",
    "from bs4 import BeautifulSoup\n",
    "\n",
    "url = \"https://www.milanuncios.com/anuncios/masajes-relajantes-en-jerez.htm\"\n",
    "\n",
    "soup = BeautifulSoup(requests.get(url).content, \"html.parser\")\n",
    "print(soup.find(class_=\"aditem-detail-title\"))"
   ]
  },
  {
   "cell_type": "markdown",
   "metadata": {},
   "source": [
    "Although, is very easy avoid these limitations...\n",
    "\n",
    "### Dinamic scraping in Python"
   ]
  },
  {
   "cell_type": "code",
   "execution_count": 2,
   "metadata": {},
   "outputs": [
    {
     "name": "stdout",
     "output_type": "stream",
     "text": [
      "<a class=\"aditem-detail-title\" href=\"/masajistas/masajes-y-tratamientos-fisio-domicilio-246582919.htm\" target=\"_blank\"><b class=\"sub2\">MASAJES</b> Y TRATAMIENTOS FISIO DOMICILIO</a>\n"
     ]
    }
   ],
   "source": [
    "from pyvirtualdisplay import Display  # pip3 install pyvirtualdisplay\n",
    "from selenium import webdriver        # pip3 install selenium\n",
    "from bs4 import BeautifulSoup         # pip3 install bs4\n",
    "import time\n",
    "\n",
    "url = \"https://www.milanuncios.com/anuncios/masajes-relajantes-en-jerez.htm\"\n",
    "\n",
    "display = Display(visible=0, size=(800, 600))\n",
    "display.start()\n",
    "browser = webdriver.Firefox()  # You need geckodriver and Mozilla Firefox\n",
    "browser.get(url)\n",
    "time.sleep(.8)\n",
    "soup = BeautifulSoup(browser.page_source, \"html.parser\")\n",
    "print(soup.find(class_=\"aditem-detail-title\"))\n",
    "browser.quit()"
   ]
  },
  {
   "cell_type": "markdown",
   "metadata": {},
   "source": [
    "________________________________________________\n",
    "\n",
    "# <center>Documentation</center>\n",
    "\n",
    "## Basic usage\n",
    "The 4 main methods to realize most of queries in are the next:"
   ]
  },
  {
   "cell_type": "code",
   "execution_count": null,
   "metadata": {},
   "outputs": [],
   "source": [
    "from milanuncios import MilAnuncios\n",
    "ma = MilAnuncios()\n",
    "\n",
    "# Obtain main categories of home page:\n",
    "print(ma.categories) \n",
    "\n",
    "# Obtain subcategories (and subsubcategories recursively) from a main category:\n",
    "print(ma.subcategories(\"servicios\"))\n",
    "\n",
    "# Realize a query (we indicates number of pages, 1 page as default):\n",
    "print(ma.search(\"gatos\", pages=3)) # Returns a pandas' DataFrame\n",
    "\n",
    "# Realize a search by category/sucategory:\n",
    "print(ma.search_category(\"juegos\", subcategory=\"videoconsolas\").tail())"
   ]
  },
  {
   "cell_type": "markdown",
   "metadata": {},
   "source": [
    "## Advanced usage\n",
    "### Filters"
   ]
  },
  {
   "cell_type": "code",
   "execution_count": null,
   "metadata": {},
   "outputs": [],
   "source": [
    "# We can filter by regions in both methods:\n",
    "print(ma.search(\"guitarra flamenca\", region=\"cadiz\").head())\n",
    "# To consult all possible regions (provinces and autonomous communities):\n",
    "print(ma.regions)\n",
    "\n",
    "# If you want to search only by regions (https://www.milanuncios.com/anuncios-en-sevilla/)\n",
    "print(ma.search(\"\", region=\"sevilla\").head())  # Void string in query parameter\n",
    "\n",
    "# We can filter by offer and demand. As default, offer and demand paramters are True:\n",
    "print(ma.search_category(\"inmobiliaria\", subcategory=\"alquiler de casas\", offer=False))"
   ]
  },
  {
   "cell_type": "markdown",
   "metadata": {},
   "source": [
    "### Caching\n",
    "If you are going to make a lot of queries in only one session, it is convenient to caching all subcategories when instantiating the scraper class. It will take some time storing in memory all subcategories, but then the performance increases:"
   ]
  },
  {
   "cell_type": "code",
   "execution_count": null,
   "metadata": {},
   "outputs": [],
   "source": [
    "from pprint import pprint\n",
    "\n",
    "ma = MilAnuncios(init_cache=True)\n",
    "pprint(ma.cache[\"categories\"])\n",
    "pprint(ma.cache[\"subcategories\"])"
   ]
  }
 ],
 "metadata": {
  "kernelspec": {
   "display_name": "Python 3",
   "language": "python",
   "name": "python3"
  },
  "language_info": {
   "codemirror_mode": {
    "name": "ipython",
    "version": 3
   },
   "file_extension": ".py",
   "mimetype": "text/x-python",
   "name": "python",
   "nbconvert_exporter": "python",
   "pygments_lexer": "ipython3",
   "version": "3.5.3"
  }
 },
 "nbformat": 4,
 "nbformat_minor": 2
}
