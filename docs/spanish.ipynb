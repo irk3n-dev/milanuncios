{
 "cells": [
  {
   "cell_type": "markdown",
   "metadata": {},
   "source": [
    "# <center>Cómo funciona</center>"
   ]
  },
  {
   "cell_type": "markdown",
   "metadata": {},
   "source": [
    "Ciertas páginas web intentan restringir la posibilidad de ser visitadas por robots creando el contenido que muestran en el cliente de forma dinámica (por medio de código Javascript), como es el caso de [milanuncios.com](https://www.milanuncios.com/).\n",
    "\n",
    "### Scraping estático en Python\n"
   ]
  },
  {
   "cell_type": "code",
   "execution_count": 1,
   "metadata": {},
   "outputs": [
    {
     "name": "stdout",
     "output_type": "stream",
     "text": [
      "None\n"
     ]
    }
   ],
   "source": [
    "import requests\n",
    "from bs4 import BeautifulSoup\n",
    "\n",
    "url = \"https://www.milanuncios.com/anuncios/masajes-relajantes-en-jerez.htm\"\n",
    "\n",
    "soup = BeautifulSoup(requests.get(url).content, \"html.parser\")\n",
    "print(soup.find(class_=\"aditem-detail-title\"))"
   ]
  },
  {
   "cell_type": "markdown",
   "metadata": {},
   "source": [
    "Sin embargo, es muy fácil saltarse estas limitaciones...\n",
    "\n",
    "### Scraping dinámico en Python"
   ]
  },
  {
   "cell_type": "code",
   "execution_count": 2,
   "metadata": {},
   "outputs": [
    {
     "name": "stdout",
     "output_type": "stream",
     "text": [
      "<a class=\"aditem-detail-title\" href=\"/masajistas/masajes-y-tratamientos-fisio-domicilio-246582919.htm\" target=\"_blank\"><b class=\"sub2\">MASAJES</b> Y TRATAMIENTOS FISIO DOMICILIO</a>\n"
     ]
    }
   ],
   "source": [
    "from pyvirtualdisplay import Display  # pip3 install pyvirtualdisplay\n",
    "from selenium import webdriver        # pip3 install selenium\n",
    "from bs4 import BeautifulSoup         # pip3 install bs4\n",
    "import time\n",
    "\n",
    "url = \"https://www.milanuncios.com/anuncios/masajes-relajantes-en-jerez.htm\"\n",
    "\n",
    "display = Display(visible=0, size=(800, 600))\n",
    "display.start()\n",
    "browser = webdriver.Firefox()  # Necesitas geckodriver y Mozilla Firefox\n",
    "browser.get(url)\n",
    "time.sleep(.8)\n",
    "soup = BeautifulSoup(browser.page_source, \"html.parser\")\n",
    "print(soup.find(class_=\"aditem-detail-title\"))\n",
    "browser.quit()"
   ]
  },
  {
   "cell_type": "markdown",
   "metadata": {},
   "source": [
    "________________________________________________\n",
    "\n",
    "# <center>Documentación</center>\n",
    "\n",
    "## Uso básico\n",
    "Los 4 métodos principales para realizar la gran mayoría de consultas en la página de [milanuncios.com](https://www.milanuncios.com/) son los siguientes:"
   ]
  },
  {
   "cell_type": "code",
   "execution_count": null,
   "metadata": {},
   "outputs": [],
   "source": [
    "from milanuncios import MilAnuncios\n",
    "\n",
    "# Debemos entrar a MilAnuncios como contexto (con la sentencia with)\n",
    "with MilAnuncios() as ma:\n",
    "\n",
    "    # Obtener las familias de categorías de la página principal:\n",
    "    print(ma.categories) \n",
    "\n",
    "    # Obtener las subcategorías de una categoría:\n",
    "    print(ma.subcategories(\"servicios\"))\n",
    "\n",
    "    # Realizar una consulta (indicamos el número de páginas, por defecto 1 página):\n",
    "    print(ma.search(\"gatos\", pages=3)) # Devuelve un DataFrame de pandas\n",
    "\n",
    "    # Realizar una búsqueda por categoría/subcategoría:\n",
    "    print(ma.search_category(\"juegos\", subcategory=\"videoconsolas\").tail())"
   ]
  },
  {
   "cell_type": "markdown",
   "metadata": {},
   "source": [
    "### Renovación de anuncios"
   ]
  },
  {
   "cell_type": "code",
   "execution_count": null,
   "metadata": {},
   "outputs": [],
   "source": [
    "from milanuncios import MilAnunciosLoginError\n",
    "\n",
    "# El parámetro delay indica los segundos que esperamos en cargar las páginas y antes de ejecutar las acciones.\n",
    "# Por defecto es 1.5, si tienes problemas de ejecución prueba a aumentarlo\n",
    "with MilAnuncios(delay=3) as ma:\n",
    "    # Loguearte en milanuncios\n",
    "    ma.login(\"tu_email@proveedor.com\", \"tu_contraseña\")  # Si falla el login se levantará MilAnunciosLoginError\n",
    "    assert ma.logged == True\n",
    "    \n",
    "    # Obtener tus anuncios\n",
    "    ma.my_ads(dataframe=False) # Por defecto devuelve un DataFrame de pandas, pero así devuelve una lista\n",
    "    \n",
    "    # Renovar tus anuncios\n",
    "        # Puedes hacerlo por títulos o por número de anuncios\n",
    "        # El programa ignorará los anuncios que no se pueden renovar aún\n",
    "    ma.renew_ads(title=[\"Título de mi anuncio\", \"Otro, da igual si es en minúscula o mayúscula\"])  # Por nombre\n",
    "    \n",
    "    ma.renew_ads(number=3)  # Los primeros 3 que se puedan renovar de tu lista de anuncios\n",
    "    \n",
    "    # Este método devuelve el número de anuncios renovados"
   ]
  },
  {
   "cell_type": "markdown",
   "metadata": {},
   "source": [
    "También puedes obtener tus anuncios o renovarlos sin pasar por el método `login()`, sólo tienes que proveer tu email y contraseña a los métodos `my_ads()` o `renew_ads()` como primeros dos parámetros:"
   ]
  },
  {
   "cell_type": "code",
   "execution_count": null,
   "metadata": {},
   "outputs": [],
   "source": [
    "options = {}\n",
    "#options = dict(debug=True)  # Si quieres mostrar en pantalla el proceso de renovación activa el debug\n",
    "\n",
    "with MilAnuncios(**options) as ma:\n",
    "    ma.my_ads(\"tu_email@proveedor.com\", \"tu_contraseña\")\n",
    "    \n",
    "    # Si no pasas número ni lista de títulos se renovarán todos los anuncios:\n",
    "    ma.renew_ads(\"tu_email@proveedor.com\", \"tu_contraseña\")                 "
   ]
  },
  {
   "cell_type": "markdown",
   "metadata": {},
   "source": [
    "___________________________________\n",
    "\n",
    "## Uso avanzado\n",
    "### Filtros"
   ]
  },
  {
   "cell_type": "code",
   "execution_count": null,
   "metadata": {},
   "outputs": [],
   "source": [
    "ma = MilAnuncios()\n",
    "ma.__enter__()  # Así también podemos entrar como contexto\n",
    "\n",
    "# Podemos filtrar por regiones en ambos métodos:\n",
    "print(ma.search(\"guitarra flamenca\", region=\"cadiz\").head())\n",
    "# Para consultar todas las regiones posibles (provincias y comunidades autónomas):\n",
    "print(ma.regions)\n",
    "\n",
    "# Si quieres buscar sólo por regiones (https://www.milanuncios.com/anuncios-en-sevilla/)\n",
    "print(ma.search(\"\", region=\"sevilla\").head())  # Cadena vacía en el parámetro query\n",
    "\n",
    "# Podemos filtrar por oferta y demanda. Por defecto, los parámetros offer y demand equivalen a True:\n",
    "print(ma.search_category(\"inmobiliaria\", subcategory=\"alquiler de casas\", offer=False))\n",
    "\n",
    "ma.__exit__()   # No te olvides de salir o acumularás procesos de Firefox en memoria"
   ]
  },
  {
   "cell_type": "markdown",
   "metadata": {},
   "source": [
    "### Cache\n",
    "Si vas a realizar muchas consultas en una sola sesión, es conveniente cachear todas las subcategorías al instanciar el scraper. Tardará un tiempo en guardar en memoria todas las subcategorías pero luego el rendimiento aumentará considerablemente:"
   ]
  },
  {
   "cell_type": "code",
   "execution_count": null,
   "metadata": {},
   "outputs": [],
   "source": [
    "from pprint import pprint\n",
    "\n",
    "with MilAnuncios(init_cache=True) as ma:\n",
    "    pprint(ma.cache[\"categories\"])\n",
    "    pprint(ma.cache[\"subcategories\"])"
   ]
  }
 ],
 "metadata": {
  "kernelspec": {
   "display_name": "Python 3",
   "language": "python",
   "name": "python3"
  },
  "language_info": {
   "codemirror_mode": {
    "name": "ipython",
    "version": 3
   },
   "file_extension": ".py",
   "mimetype": "text/x-python",
   "name": "python",
   "nbconvert_exporter": "python",
   "pygments_lexer": "ipython3",
   "version": "3.5.3"
  }
 },
 "nbformat": 4,
 "nbformat_minor": 2
}
