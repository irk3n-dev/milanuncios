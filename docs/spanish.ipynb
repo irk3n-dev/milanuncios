{
 "cells": [
  {
   "cell_type": "markdown",
   "metadata": {},
   "source": [
    "# <center>Cómo funciona</center>"
   ]
  },
  {
   "cell_type": "markdown",
   "metadata": {},
   "source": [
    "Ciertas páginas web intentan restringir la posibilidad de ser visitadas por robots creando el contenido que muestran en el cliente de forma dinámica (por medio de código Javascript), como es el caso de [milanuncios.com](https://www.milanuncios.com/).\n",
    "\n",
    "### Scraping estático en Python\n"
   ]
  },
  {
   "cell_type": "code",
   "execution_count": 1,
   "metadata": {},
   "outputs": [
    {
     "name": "stdout",
     "output_type": "stream",
     "text": [
      "None\n"
     ]
    }
   ],
   "source": [
    "import requests\n",
    "from bs4 import BeautifulSoup\n",
    "\n",
    "url = \"https://www.milanuncios.com/anuncios/masajes-relajantes-en-jerez.htm\"\n",
    "\n",
    "soup = BeautifulSoup(requests.get(url).content, \"html.parser\")\n",
    "print(soup.find(class_=\"aditem-detail-title\"))"
   ]
  },
  {
   "cell_type": "markdown",
   "metadata": {},
   "source": [
    "Sin embargo, es muy fácil saltarse estas limitaciones...\n",
    "\n",
    "### Scraping dinámico en Python"
   ]
  },
  {
   "cell_type": "code",
   "execution_count": 2,
   "metadata": {},
   "outputs": [
    {
     "name": "stdout",
     "output_type": "stream",
     "text": [
      "<a class=\"aditem-detail-title\" href=\"/masajistas/masajes-y-tratamientos-fisio-domicilio-246582919.htm\" target=\"_blank\"><b class=\"sub2\">MASAJES</b> Y TRATAMIENTOS FISIO DOMICILIO</a>\n"
     ]
    }
   ],
   "source": [
    "from pyvirtualdisplay import Display  # pip3 install pyvirtualdisplay\n",
    "from selenium import webdriver        # pip3 install selenium\n",
    "from bs4 import BeautifulSoup         # pip3 install bs4\n",
    "import time\n",
    "\n",
    "url = \"https://www.milanuncios.com/anuncios/masajes-relajantes-en-jerez.htm\"\n",
    "\n",
    "display = Display(visible=0, size=(800, 600))\n",
    "display.start()\n",
    "browser = webdriver.Firefox()  # Necesitas geckodriver y Mozilla Firefox\n",
    "browser.get(url)\n",
    "time.sleep(.8)\n",
    "soup = BeautifulSoup(browser.page_source, \"html.parser\")\n",
    "print(soup.find(class_=\"aditem-detail-title\"))\n",
    "browser.quit()"
   ]
  },
  {
   "cell_type": "markdown",
   "metadata": {},
   "source": [
    "________________________________________________\n",
    "\n",
    "# <center>Documentación</center>\n",
    "\n",
    "## Uso básico\n",
    "Los 4 métodos principales para realizar la gran mayoría de consultas en la página de [milanuncios.com](https://www.milanuncios.com/) son los siguientes:"
   ]
  },
  {
   "cell_type": "code",
   "execution_count": null,
   "metadata": {},
   "outputs": [],
   "source": [
    "from milanuncios import MilAnuncios\n",
    "ma = MilAnuncios()\n",
    "\n",
    "# Obtener las familias de categorías de la página principal:\n",
    "print(ma.categories) \n",
    "\n",
    "# Obtener las subcategorías de una categoría:\n",
    "print(ma.subcategories(\"servicios\"))\n",
    "\n",
    "# Realizar una consulta (indicamos el número de páginas, por defecto 1 página):\n",
    "print(ma.search(\"gatos\", pages=3)) # Devuelve un DataFrame de pandas\n",
    "\n",
    "# Realizar una búsqueda por categoría/subcategoría:\n",
    "print(ma.search_category(\"juegos\", subcategory=\"videoconsolas\").tail())"
   ]
  },
  {
   "cell_type": "markdown",
   "metadata": {},
   "source": [
    "## Uso avanzado\n",
    "### Filtros"
   ]
  },
  {
   "cell_type": "code",
   "execution_count": null,
   "metadata": {},
   "outputs": [],
   "source": [
    "# Podemos filtrar por regiones en ambos métodos:\n",
    "print(ma.search(\"guitarra flamenca\", region=\"cadiz\").head())\n",
    "# Para consultar todas las regiones posibles (provincias y comunidades autónomas):\n",
    "print(ma.regions)\n",
    "\n",
    "# Si quieres buscar sólo por regiones (https://www.milanuncios.com/anuncios-en-sevilla/)\n",
    "print(ma.search(\"\", region=\"sevilla\").head())  # Cadena vacía en el parámetro query\n",
    "\n",
    "# Podemos filtrar por oferta y demanda. Por defecto, los parámetros offer y demand equivalen a True:\n",
    "print(ma.search_category(\"inmobiliaria\", subcategory=\"alquiler de casas\", offer=False))"
   ]
  },
  {
   "cell_type": "markdown",
   "metadata": {},
   "source": [
    "### Cache\n",
    "Si vas a realizar muchas consultas en una sola sesión, es conveniente cachear todas las subcategorías al instanciar el scraper. Tardará un tiempo en guardar en memoria todas las subcategorías pero luego el rendimiento aumentará considerablemente:"
   ]
  },
  {
   "cell_type": "code",
   "execution_count": null,
   "metadata": {},
   "outputs": [],
   "source": [
    "from pprint import pprint\n",
    "\n",
    "ma = MilAnuncios(init_cache=True)\n",
    "pprint(ma.cache[\"categories\"])\n",
    "pprint(ma.cache[\"subcategories\"])"
   ]
  }
 ],
 "metadata": {
  "kernelspec": {
   "display_name": "Python 3",
   "language": "python",
   "name": "python3"
  },
  "language_info": {
   "codemirror_mode": {
    "name": "ipython",
    "version": 3
   },
   "file_extension": ".py",
   "mimetype": "text/x-python",
   "name": "python",
   "nbconvert_exporter": "python",
   "pygments_lexer": "ipython3",
   "version": "3.5.3"
  }
 },
 "nbformat": 4,
 "nbformat_minor": 2
}
